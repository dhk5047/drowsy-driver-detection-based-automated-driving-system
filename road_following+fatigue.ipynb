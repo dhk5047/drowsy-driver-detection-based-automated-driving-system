{
 "cells": [
  {
   "cell_type": "code",
   "execution_count": 1,
   "id": "synthetic-stuff",
   "metadata": {},
   "outputs": [
    {
     "name": "stdout",
     "output_type": "stream",
     "text": [
      "[LISTEN] UDP *:5555\n"
     ]
    }
   ],
   "source": [
    "############################################\n",
    "# 0) UDP 수신 쓰레드  ―  종료 지원 버전\n",
    "############################################\n",
    "import socket, threading\n",
    "\n",
    "UDP_PORT = 5555\n",
    "flag = 0                         # 0/1 = run, 2 = stop\n",
    "stop_event = threading.Event()   # ← 종료 플래그\n",
    "\n",
    "def listen_udp():\n",
    "    global flag\n",
    "    sock = socket.socket(socket.AF_INET, socket.SOCK_DGRAM)\n",
    "    sock.bind((\"\", UDP_PORT))\n",
    "    sock.settimeout(0.5)         # 0.5 초마다 깨어나 stop 이벤트 확인\n",
    "    print(f\"[LISTEN] UDP *:{UDP_PORT}\")\n",
    "\n",
    "    while not stop_event.is_set():\n",
    "        try:\n",
    "            data, addr = sock.recvfrom(8)\n",
    "            msg = int(data.decode().strip())\n",
    "            if msg in (0, 1, 2):\n",
    "                flag = msg\n",
    "                print(f\"[RX] {addr[0]} : {msg}\")\n",
    "        except socket.timeout:\n",
    "            continue             # 타임아웃 → stop_event 다시 체크\n",
    "        except Exception as e:\n",
    "            print(\"decode err:\", e)\n",
    "\n",
    "    sock.close()\n",
    "    print(\"[UDP] listener terminated\")\n",
    "\n",
    "listener = threading.Thread(target=listen_udp, daemon=True)\n",
    "listener.start()\n"
   ]
  },
  {
   "cell_type": "code",
   "execution_count": 2,
   "id": "loaded-chicken",
   "metadata": {},
   "outputs": [
    {
     "name": "stdout",
     "output_type": "stream",
     "text": [
      "[RX] 192.168.0.16 : 1\n"
     ]
    },
    {
     "data": {
      "application/vnd.jupyter.widget-view+json": {
       "model_id": "005ff0b6e8d74cf8b2cec62c4ce5c2f1",
       "version_major": 2,
       "version_minor": 0
      },
      "text/plain": [
       "Image(value=b'\\xff\\xd8\\xff\\xe0\\x00\\x10JFIF\\x00\\x01\\x01\\x00\\x00\\x01\\x00\\x01\\x00\\x00\\xff\\xdb\\x00C\\x00\\x02\\x01\\x0…"
      ]
     },
     "metadata": {},
     "output_type": "display_data"
    },
    {
     "data": {
      "application/vnd.jupyter.widget-view+json": {
       "model_id": "51e6d23d8975400698bd31dc594d6a91",
       "version_major": 2,
       "version_minor": 0
      },
      "text/plain": [
       "FloatSlider(value=0.0, description='speed gain', max=1.0, step=0.01)"
      ]
     },
     "metadata": {},
     "output_type": "display_data"
    },
    {
     "data": {
      "application/vnd.jupyter.widget-view+json": {
       "model_id": "0800c8ef9d5e47199d0af52ba416e635",
       "version_major": 2,
       "version_minor": 0
      },
      "text/plain": [
       "FloatSlider(value=0.001, description='steering gain', max=1.0, step=0.001)"
      ]
     },
     "metadata": {},
     "output_type": "display_data"
    },
    {
     "data": {
      "application/vnd.jupyter.widget-view+json": {
       "model_id": "ede7e3af19344b2aa2807da9e699f126",
       "version_major": 2,
       "version_minor": 0
      },
      "text/plain": [
       "FloatSlider(value=0.0, description='steering kd', max=0.5, step=0.001)"
      ]
     },
     "metadata": {},
     "output_type": "display_data"
    },
    {
     "data": {
      "application/vnd.jupyter.widget-view+json": {
       "model_id": "77d0140efa63426ba5f626ed4a21ad44",
       "version_major": 2,
       "version_minor": 0
      },
      "text/plain": [
       "FloatSlider(value=0.0, description='steering bias', max=0.3, min=-0.3, step=0.01)"
      ]
     },
     "metadata": {},
     "output_type": "display_data"
    },
    {
     "data": {
      "application/vnd.jupyter.widget-view+json": {
       "model_id": "44982682b46f46ba85c97661030d685d",
       "version_major": 2,
       "version_minor": 0
      },
      "text/plain": [
       "HBox(children=(FloatSlider(value=0.0, description='y', max=1.0, orientation='vertical'), FloatSlider(value=0.0…"
      ]
     },
     "metadata": {},
     "output_type": "display_data"
    },
    {
     "data": {
      "application/vnd.jupyter.widget-view+json": {
       "model_id": "a95ec40addb548499bf6dcc6806572e0",
       "version_major": 2,
       "version_minor": 0
      },
      "text/plain": [
       "FloatSlider(value=0.0, description='x', max=1.0, min=-1.0)"
      ]
     },
     "metadata": {},
     "output_type": "display_data"
    },
    {
     "data": {
      "application/vnd.jupyter.widget-view+json": {
       "model_id": "440e6d658b284c8bad1b5235a7ec9521",
       "version_major": 2,
       "version_minor": 0
      },
      "text/plain": [
       "FloatSlider(value=0.0, description='steering', max=1.0, min=-1.0)"
      ]
     },
     "metadata": {},
     "output_type": "display_data"
    }
   ],
   "source": [
    "import torchvision\n",
    "import torch\n",
    "\n",
    "model = torchvision.models.resnet18(pretrained=False)\n",
    "model.fc = torch.nn.Linear(512, 2)\n",
    "\n",
    "model.load_state_dict(torch.load('best_steering_model_big3.pth'))\n",
    "\n",
    "device = torch.device('cuda')\n",
    "model = model.to(device)\n",
    "model = model.eval().half()\n",
    "\n",
    "import torchvision.transforms as transforms\n",
    "import torch.nn.functional as F\n",
    "import cv2\n",
    "import PIL.Image\n",
    "import numpy as np\n",
    "\n",
    "mean = torch.Tensor([0.485, 0.456, 0.406]).cuda().half()\n",
    "std = torch.Tensor([0.229, 0.224, 0.225]).cuda().half()\n",
    "\n",
    "def preprocess(image):\n",
    "    image = PIL.Image.fromarray(image)\n",
    "    image = transforms.functional.to_tensor(image).to(device).half()\n",
    "    image.sub_(mean[:, None, None]).div_(std[:, None, None])\n",
    "    return image[None, ...]\n",
    "\n",
    "from IPython.display import display\n",
    "import ipywidgets\n",
    "import traitlets\n",
    "from jetbot import Camera, bgr8_to_jpeg\n",
    "\n",
    "camera = Camera()\n",
    "\n",
    "image_widget = ipywidgets.Image()\n",
    "\n",
    "traitlets.dlink((camera, 'value'), (image_widget, 'value'), transform=bgr8_to_jpeg)\n",
    "\n",
    "display(image_widget)\n",
    "\n",
    "from jetbot import Robot\n",
    "\n",
    "robot = Robot()\n",
    "\n",
    "speed_gain_slider = ipywidgets.FloatSlider(min=0.0, max=1.0, step=0.01, description='speed gain')\n",
    "steering_gain_slider = ipywidgets.FloatSlider(min=0.0, max=1.0, step=0.001, value=0.001, description='steering gain')\n",
    "steering_dgain_slider = ipywidgets.FloatSlider(min=0.0, max=0.5, step=0.001, value=0.0, description='steering kd')\n",
    "steering_bias_slider = ipywidgets.FloatSlider(min=-0.3, max=0.3, step=0.01, value=0.0, description='steering bias')\n",
    "\n",
    "display(speed_gain_slider, steering_gain_slider, steering_dgain_slider, steering_bias_slider)\n",
    "\n",
    "\n",
    "x_slider = ipywidgets.FloatSlider(min=-1.0, max=1.0, description='x')\n",
    "y_slider = ipywidgets.FloatSlider(min=0, max=1.0, orientation='vertical', description='y')\n",
    "steering_slider = ipywidgets.FloatSlider(min=-1.0, max=1.0, description='steering')\n",
    "speed_slider = ipywidgets.FloatSlider(min=0, max=1.0, orientation='vertical', description='speed')\n",
    "\n",
    "display(ipywidgets.HBox([y_slider, speed_slider]))\n",
    "display(x_slider, steering_slider)"
   ]
  },
  {
   "cell_type": "code",
   "execution_count": 3,
   "id": "brazilian-capacity",
   "metadata": {},
   "outputs": [],
   "source": [
    "import time\n",
    "\n",
    "# ────── 매뉴버 파라미터 ──────\n",
    "TURN_SPEED         = 0.1   # 회전 속도\n",
    "DRIVE_SPEED        = 0.15   # 전진/후진 속도\n",
    "DANGER_TURN_TIME   = 1.5   # 좌회전(90°) 지속 시간 (s)\n",
    "DANGER_DRIVE_TIME  = 1.5   # 전진 지속 시간 (s)\n",
    "RECOVERY_BACK_TIME = 1.5   # 후진 지속 시간 (s)\n",
    "RECOVERY_TURN_TIME = 1.5   # 우회전(90°) 지속 시간 (s)\n",
    "\n",
    "# 상태 변수\n",
    "danger_action_done  = False\n",
    "recovery_action_done = False\n",
    "angle = angle_last = 0.0\n",
    "\n",
    "def execute(change):\n",
    "    global angle, angle_last, flag\n",
    "    global danger_action_done, recovery_action_done\n",
    "\n",
    "    img = change['new']\n",
    "\n",
    "    # 1) 위험 상태(danger) 매뉴버\n",
    "    if flag == 2:\n",
    "        if not danger_action_done:\n",
    "            # 좌회전 90°\n",
    "            robot.left_motor.value  = -TURN_SPEED\n",
    "            robot.right_motor.value =  TURN_SPEED\n",
    "            time.sleep(DANGER_TURN_TIME)\n",
    "            # 전진\n",
    "            robot.left_motor.value  = DRIVE_SPEED\n",
    "            robot.right_motor.value = DRIVE_SPEED\n",
    "            time.sleep(DANGER_DRIVE_TIME)\n",
    "            # 정지\n",
    "            robot.stop()\n",
    "            danger_action_done   = True\n",
    "            recovery_action_done = False\n",
    "        return\n",
    "\n",
    "    # 2) 정상 복귀 시 리커버리 매뉴버\n",
    "    if flag in (0,1) and danger_action_done and not recovery_action_done:\n",
    "        # 후진\n",
    "        robot.left_motor.value  = -DRIVE_SPEED\n",
    "        robot.right_motor.value = -DRIVE_SPEED\n",
    "        time.sleep(RECOVERY_BACK_TIME)\n",
    "        # 우회전 90°\n",
    "        robot.left_motor.value  = TURN_SPEED\n",
    "        robot.right_motor.value = -TURN_SPEED\n",
    "        time.sleep(RECOVERY_TURN_TIME)\n",
    "        # 정지\n",
    "        robot.stop()\n",
    "        danger_action_done = False\n",
    "        recovery_action_done = True\n",
    "        # 이후 정상 주행으로 넘어갑니다\n",
    "\n",
    "    # 3) 정상 주행 루틴 (flag 0 or 1)\n",
    "    #    여기부터는 원래 execute() 안의 주행 코드 복사\n",
    "    xy  = model(preprocess(img))[0].detach().float().cpu().numpy()\n",
    "    x   = xy[0]\n",
    "    y   = (0.5 - xy[1]) / 2.0\n",
    "    y   = max(0.0, min(1.0, y))\n",
    "\n",
    "    # 슬라이더·위젯 업데이트\n",
    "    x_slider.value        = x\n",
    "    y_slider.value        = y\n",
    "    speed_slider.value    = speed_gain_slider.value\n",
    "\n",
    "    # PID 계산\n",
    "    angle = np.arctan2(x, y)\n",
    "    pid   = angle * steering_gain_slider.value + (angle - angle_last) * steering_dgain_slider.value\n",
    "    angle_last = angle\n",
    "\n",
    "    steering = pid + steering_bias_slider.value\n",
    "    steering_slider.value = steering\n",
    "\n",
    "    # 모터 구동\n",
    "    left  = np.clip(speed_slider.value + steering, 0.0, 1.0)\n",
    "    right = np.clip(speed_slider.value - steering, 0.0, 1.0)\n",
    "    robot.left_motor.value, robot.right_motor.value = left, right\n",
    "\n",
    "# 첫 프레임 실행 & 옵저버 등록\n",
    "execute({'new': camera.value})\n",
    "camera.observe(execute, names='value')\n"
   ]
  },
  {
   "cell_type": "code",
   "execution_count": null,
   "id": "listed-numbers",
   "metadata": {},
   "outputs": [
    {
     "name": "stdout",
     "output_type": "stream",
     "text": [
      "[UDP] listener terminated\n"
     ]
    }
   ],
   "source": [
    "############################################\n",
    "# 3) 중지 셀 (원할 때 실행) ---------------\n",
    "############################################\n",
    "import time\n",
    "\n",
    "stop_event.set()      # 쓰레드에게 “끝내라” 신호\n",
    "listener.join()       # 쓰레드 종료 대기\n",
    "\n",
    "camera.unobserve_all('value')\n",
    "time.sleep(0.1)\n",
    "robot.stop()\n",
    "camera.stop()\n"
   ]
  },
  {
   "cell_type": "code",
   "execution_count": null,
   "id": "mysterious-vertex",
   "metadata": {},
   "outputs": [],
   "source": []
  },
  {
   "cell_type": "code",
   "execution_count": null,
   "id": "healthy-injury",
   "metadata": {},
   "outputs": [],
   "source": []
  }
 ],
 "metadata": {
  "kernelspec": {
   "display_name": "Python 3",
   "language": "python",
   "name": "python3"
  },
  "language_info": {
   "codemirror_mode": {
    "name": "ipython",
    "version": 3
   },
   "file_extension": ".py",
   "mimetype": "text/x-python",
   "name": "python",
   "nbconvert_exporter": "python",
   "pygments_lexer": "ipython3",
   "version": "3.6.9"
  }
 },
 "nbformat": 4,
 "nbformat_minor": 5
}
