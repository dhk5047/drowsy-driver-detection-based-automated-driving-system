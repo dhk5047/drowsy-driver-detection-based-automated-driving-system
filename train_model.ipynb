{
 "cells": [
  {
   "cell_type": "markdown",
   "metadata": {},
   "source": [
    "# Road Follower - Train Model\n",
    "\n",
    "In this notebook we will train a neural network to take an input image, and output a set of x, y values corresponding to a target.\n",
    "\n",
    "We will be using PyTorch deep learning framework to train ResNet18 neural network architecture model for road follower application."
   ]
  },
  {
   "cell_type": "code",
   "execution_count": 1,
   "metadata": {},
   "outputs": [],
   "source": [
    "import torch\n",
    "import torch.optim as optim\n",
    "import torch.nn.functional as F\n",
    "import torchvision\n",
    "import torchvision.datasets as datasets\n",
    "import torchvision.models as models\n",
    "import torchvision.transforms as transforms\n",
    "import glob\n",
    "import PIL.Image\n",
    "import os\n",
    "import numpy as np"
   ]
  },
  {
   "cell_type": "markdown",
   "metadata": {},
   "source": [
    "### Download and extract data\n",
    "\n",
    "Before you start, you should upload the ``road_following_<Date&Time>.zip`` file that you created in the ``data_collection.ipynb`` notebook on the robot. \n",
    "\n",
    "> If you're training on the JetBot you collected data on, you can skip this!\n",
    "\n",
    "You should then extract this dataset by calling the command below:"
   ]
  },
  {
   "cell_type": "code",
   "execution_count": 2,
   "metadata": {},
   "outputs": [],
   "source": [
    "!unzip -o -q road_following_dataset_big3.zip"
   ]
  },
  {
   "cell_type": "markdown",
   "metadata": {},
   "source": [
    "You should see a folder named ``dataset_all`` appear in the file browser."
   ]
  },
  {
   "cell_type": "markdown",
   "metadata": {},
   "source": [
    "### Create Dataset Instance\n",
    "\n",
    "Here we create a custom ``torch.utils.data.Dataset`` implementation, which implements the ``__len__`` and ``__getitem__`` functions.  This class\n",
    "is responsible for loading images and parsing the x, y values from the image filenames.  Because we implement the ``torch.utils.data.Dataset`` class,\n",
    "we can use all of the torch data utilities :)\n",
    "\n",
    "We hard coded some transformations (like color jitter) into our dataset.  We made random horizontal flips optional (in case you want to follow a non-symmetric path, like a road\n",
    "where we need to 'stay right').  If it doesn't matter whether your robot follows some convention, you could enable flips to augment the dataset."
   ]
  },
  {
   "cell_type": "code",
   "execution_count": 3,
   "metadata": {},
   "outputs": [],
   "source": [
    "def get_x(path, width):\n",
    "    \"\"\"Gets the x value from the image filename\"\"\"\n",
    "    return (float(int(path.split(\"_\")[1])) - width/2) / (width/2)\n",
    "\n",
    "def get_y(path, height):\n",
    "    \"\"\"Gets the y value from the image filename\"\"\"\n",
    "    return (float(int(path.split(\"_\")[2])) - height/2) / (height/2)\n",
    "\n",
    "class XYDataset(torch.utils.data.Dataset):\n",
    "    \n",
    "    def __init__(self, directory, random_hflips=False):\n",
    "        self.directory = directory\n",
    "        self.random_hflips = random_hflips\n",
    "        self.image_paths = glob.glob(os.path.join(self.directory, '*.jpg'))\n",
    "        self.color_jitter = transforms.ColorJitter(0.3, 0.3, 0.3, 0.3)\n",
    "    \n",
    "    def __len__(self):\n",
    "        return len(self.image_paths)\n",
    "    \n",
    "    def __getitem__(self, idx):\n",
    "        image_path = self.image_paths[idx]\n",
    "        \n",
    "        image = PIL.Image.open(image_path)\n",
    "        width, height = image.size\n",
    "        x = float(get_x(os.path.basename(image_path), width))\n",
    "        y = float(get_y(os.path.basename(image_path), height))\n",
    "      \n",
    "        if float(np.random.rand(1)) > 0.5:\n",
    "            image = transforms.functional.hflip(image)\n",
    "            x = -x\n",
    "        \n",
    "        image = self.color_jitter(image)\n",
    "        image = transforms.functional.resize(image, (224, 224))\n",
    "        image = transforms.functional.to_tensor(image)\n",
    "        image = image.numpy()[::-1].copy()\n",
    "        image = torch.from_numpy(image)\n",
    "        image = transforms.functional.normalize(image, [0.485, 0.456, 0.406], [0.229, 0.224, 0.225])\n",
    "        \n",
    "        return image, torch.tensor([x, y]).float()\n",
    "    \n",
    "dataset = XYDataset('dataset_big3', random_hflips=False)"
   ]
  },
  {
   "cell_type": "markdown",
   "metadata": {},
   "source": [
    "### Split dataset into train and test sets\n",
    "Once we read dataset, we will split data set in train and test sets. In this example we split train and test a 90%-10%. The test set will be used to verify the accuracy of the model we train."
   ]
  },
  {
   "cell_type": "code",
   "execution_count": 4,
   "metadata": {},
   "outputs": [],
   "source": [
    "test_percent = 0.1\n",
    "num_test = int(test_percent * len(dataset))\n",
    "train_dataset, test_dataset = torch.utils.data.random_split(dataset, [len(dataset) - num_test, num_test])"
   ]
  },
  {
   "cell_type": "markdown",
   "metadata": {},
   "source": [
    "### Create data loaders to load data in batches\n",
    "\n",
    "We use ``DataLoader`` class to load data in batches, shuffle data and allow using multi-subprocesses. In this example we use batch size of 64. Batch size will be based on memory available with your GPU and it can impact accuracy of the model."
   ]
  },
  {
   "cell_type": "code",
   "execution_count": 5,
   "metadata": {},
   "outputs": [],
   "source": [
    "train_loader = torch.utils.data.DataLoader(\n",
    "    train_dataset,\n",
    "    batch_size=8,\n",
    "    shuffle=True,\n",
    "    num_workers=0\n",
    ")\n",
    "\n",
    "test_loader = torch.utils.data.DataLoader(\n",
    "    test_dataset,\n",
    "    batch_size=8,\n",
    "    shuffle=True,\n",
    "    num_workers=0\n",
    ")"
   ]
  },
  {
   "cell_type": "markdown",
   "metadata": {},
   "source": [
    "### Define Neural Network Model \n",
    "\n",
    "We use ResNet-18 model available on PyTorch TorchVision. \n",
    "\n",
    "In a process called transfer learning, we can repurpose a pre-trained model (trained on millions of images) for a new task that has possibly much less data available.\n",
    "\n",
    "\n",
    "More details on ResNet-18 : https://github.com/pytorch/vision/blob/master/torchvision/models/resnet.py\n",
    "\n",
    "More Details on Transfer Learning: https://www.youtube.com/watch?v=yofjFQddwHE "
   ]
  },
  {
   "cell_type": "code",
   "execution_count": 6,
   "metadata": {},
   "outputs": [],
   "source": [
    "model = models.resnet18(pretrained=True)"
   ]
  },
  {
   "cell_type": "markdown",
   "metadata": {},
   "source": [
    "ResNet model has fully connect (fc) final layer with 512 as ``in_features`` and we will be training for regression thus ``out_features`` as 1\n",
    "\n",
    "Finally, we transfer our model for execution on the GPU"
   ]
  },
  {
   "cell_type": "code",
   "execution_count": 7,
   "metadata": {},
   "outputs": [],
   "source": [
    "model.fc = torch.nn.Linear(512, 2)\n",
    "device = torch.device('cuda')\n",
    "model = model.to(device)"
   ]
  },
  {
   "cell_type": "markdown",
   "metadata": {},
   "source": [
    "### Train Regression:\n",
    "\n",
    "We train for 50 epochs and save best model if the loss is reduced. "
   ]
  },
  {
   "cell_type": "code",
   "execution_count": 8,
   "metadata": {},
   "outputs": [
    {
     "name": "stdout",
     "output_type": "stream",
     "text": [
      "0.314137, 0.081513\n",
      "0.059544, 0.056107\n",
      "0.048966, 0.023799\n",
      "0.044848, 0.031278\n",
      "0.039415, 0.021861\n",
      "0.040538, 0.042709\n",
      "0.063919, 0.071817\n",
      "0.043979, 0.017437\n",
      "0.033876, 0.021551\n",
      "0.028916, 0.022814\n",
      "0.028268, 0.018644\n",
      "0.030030, 0.032980\n",
      "0.036405, 0.021336\n",
      "0.028095, 0.032037\n",
      "0.025023, 0.018886\n",
      "0.017964, 0.013048\n",
      "0.017891, 0.018560\n",
      "0.018345, 0.041573\n",
      "0.018858, 0.020772\n",
      "0.018322, 0.111703\n",
      "0.013922, 0.020800\n",
      "0.018567, 0.099899\n",
      "0.018345, 0.032071\n",
      "0.010991, 0.015399\n",
      "0.011785, 0.085936\n",
      "0.010664, 0.019307\n",
      "0.008296, 0.021757\n",
      "0.008489, 0.022266\n",
      "0.007849, 0.019367\n",
      "0.008162, 0.030640\n",
      "0.005713, 0.025770\n",
      "0.006052, 0.017802\n",
      "0.005254, 0.012415\n",
      "0.005677, 0.016905\n",
      "0.004695, 0.015901\n",
      "0.005439, 0.018588\n",
      "0.004854, 0.014538\n",
      "0.004646, 0.019742\n",
      "0.007998, 0.028954\n",
      "0.007586, 0.015701\n",
      "0.006206, 0.016242\n",
      "0.007435, 0.019836\n",
      "0.012934, 0.018923\n",
      "0.006483, 0.018122\n",
      "0.007157, 0.014683\n",
      "0.004074, 0.016398\n",
      "0.004142, 0.014583\n",
      "0.002962, 0.014948\n",
      "0.004571, 0.016957\n",
      "0.006277, 0.018138\n",
      "0.003985, 0.014507\n",
      "0.002987, 0.014761\n",
      "0.004922, 0.044965\n",
      "0.005066, 0.018502\n",
      "0.005613, 0.013164\n",
      "0.005591, 0.018056\n",
      "0.004088, 0.014829\n",
      "0.003868, 0.017667\n",
      "0.004971, 0.015007\n",
      "0.003214, 0.021060\n",
      "0.004357, 0.013357\n",
      "0.005039, 0.021556\n",
      "0.004917, 0.451986\n",
      "0.013524, 0.023368\n",
      "0.011541, 0.019363\n",
      "0.007472, 0.024039\n",
      "0.009952, 0.079936\n",
      "0.007517, 0.022587\n",
      "0.005410, 0.016175\n",
      "0.009175, 0.017488\n"
     ]
    }
   ],
   "source": [
    "NUM_EPOCHS = 70\n",
    "BEST_MODEL_PATH = 'best_steering_model_big3.pth'\n",
    "best_loss = 1e9\n",
    "\n",
    "optimizer = optim.Adam(model.parameters())\n",
    "\n",
    "for epoch in range(NUM_EPOCHS):\n",
    "    \n",
    "    model.train()\n",
    "    train_loss = 0.0\n",
    "    for images, labels in iter(train_loader):\n",
    "        images = images.to(device)\n",
    "        labels = labels.to(device)\n",
    "        optimizer.zero_grad()\n",
    "        outputs = model(images)\n",
    "        loss = F.mse_loss(outputs, labels)\n",
    "        train_loss += float(loss)\n",
    "        loss.backward()\n",
    "        optimizer.step()\n",
    "    train_loss /= len(train_loader)\n",
    "    \n",
    "    model.eval()\n",
    "    test_loss = 0.0\n",
    "    for images, labels in iter(test_loader):\n",
    "        images = images.to(device)\n",
    "        labels = labels.to(device)\n",
    "        outputs = model(images)\n",
    "        loss = F.mse_loss(outputs, labels)\n",
    "        test_loss += float(loss)\n",
    "    test_loss /= len(test_loader)\n",
    "    \n",
    "    print('%f, %f' % (train_loss, test_loss))\n",
    "    if test_loss < best_loss:\n",
    "        torch.save(model.state_dict(), BEST_MODEL_PATH)\n",
    "        best_loss = test_loss"
   ]
  },
  {
   "cell_type": "markdown",
   "metadata": {},
   "source": [
    "Once the model is trained, it will generate ``best_steering_model_xy.pth`` file which you can use for inferencing in the live demo notebook.\n",
    "\n",
    "If you trained on a different machine other than JetBot, you'll need to upload this to the JetBot to the ``road_following`` example folder."
   ]
  },
  {
   "cell_type": "code",
   "execution_count": 9,
   "metadata": {},
   "outputs": [
    {
     "name": "stdout",
     "output_type": "stream",
     "text": [
      "❌ 삭제됨: xy_067_043_be40b40c-4dd8-11f0-879e-a46bb606808d.jpg — 이유: cannot identify image file 'dataset3_xy/xy_067_043_be40b40c-4dd8-11f0-879e-a46bb606808d.jpg'\n",
      "❌ 삭제됨: xy_157_077_cf0efbf4-4dd8-11f0-879e-a46bb606808d.jpg — 이유: cannot identify image file 'dataset3_xy/xy_157_077_cf0efbf4-4dd8-11f0-879e-a46bb606808d.jpg'\n",
      "❌ 삭제됨: xy_201_108_d0d152ca-4dd8-11f0-879e-a46bb606808d.jpg — 이유: cannot identify image file 'dataset3_xy/xy_201_108_d0d152ca-4dd8-11f0-879e-a46bb606808d.jpg'\n",
      "❌ 삭제됨: xy_116_047_c0962962-4dd8-11f0-879e-a46bb606808d.jpg — 이유: cannot identify image file 'dataset3_xy/xy_116_047_c0962962-4dd8-11f0-879e-a46bb606808d.jpg'\n",
      "❌ 삭제됨: xy_140_069_5a1f0c26-4dd8-11f0-be5f-a46bb606808d.jpg — 이유: cannot identify image file 'dataset3_xy/xy_140_069_5a1f0c26-4dd8-11f0-be5f-a46bb606808d.jpg'\n",
      "❌ 삭제됨: xy_114_090_57f72776-4dd8-11f0-be5f-a46bb606808d.jpg — 이유: cannot identify image file 'dataset3_xy/xy_114_090_57f72776-4dd8-11f0-be5f-a46bb606808d.jpg'\n",
      "❌ 삭제됨: xy_110_055_c244ca8e-4dd8-11f0-879e-a46bb606808d.jpg — 이유: cannot identify image file 'dataset3_xy/xy_110_055_c244ca8e-4dd8-11f0-879e-a46bb606808d.jpg'\n",
      "❌ 삭제됨: xy_118_051_d26475a4-4dd8-11f0-879e-a46bb606808d.jpg — 이유: cannot identify image file 'dataset3_xy/xy_118_051_d26475a4-4dd8-11f0-879e-a46bb606808d.jpg'\n",
      "❌ 삭제됨: xy_141_137_5cb6954e-4dd8-11f0-be5f-a46bb606808d.jpg — 이유: cannot identify image file 'dataset3_xy/xy_141_137_5cb6954e-4dd8-11f0-be5f-a46bb606808d.jpg'\n",
      "❌ 삭제됨: xy_130_053_c18c975c-4dd8-11f0-879e-a46bb606808d.jpg — 이유: cannot identify image file 'dataset3_xy/xy_130_053_c18c975c-4dd8-11f0-879e-a46bb606808d.jpg'\n",
      "❌ 삭제됨: xy_126_053_bfc24976-4dd8-11f0-879e-a46bb606808d.jpg — 이유: cannot identify image file 'dataset3_xy/xy_126_053_bfc24976-4dd8-11f0-879e-a46bb606808d.jpg'\n",
      "❌ 삭제됨: xy_101_110_5f9044c2-4dd8-11f0-be5f-a46bb606808d.jpg — 이유: cannot identify image file 'dataset3_xy/xy_101_110_5f9044c2-4dd8-11f0-be5f-a46bb606808d.jpg'\n",
      "❌ 삭제됨: xy_113_098_bf16b458-4dd8-11f0-879e-a46bb606808d.jpg — 이유: cannot identify image file 'dataset3_xy/xy_113_098_bf16b458-4dd8-11f0-879e-a46bb606808d.jpg'\n",
      "❌ 삭제됨: xy_166_145_cfe159a0-4dd8-11f0-879e-a46bb606808d.jpg — 이유: cannot identify image file 'dataset3_xy/xy_166_145_cfe159a0-4dd8-11f0-879e-a46bb606808d.jpg'\n",
      "총 14개 손상 이미지(.jpg) 및 레이블(.json) 삭제 완료.\n"
     ]
    }
   ],
   "source": [
    "# import os\n",
    "# from PIL import Image, UnidentifiedImageError\n",
    "\n",
    "# image_dir = 'dataset3_xy'\n",
    "# deleted_files = 0\n",
    "\n",
    "# for filename in os.listdir(image_dir):\n",
    "#     if filename.endswith('.jpg'):\n",
    "#         image_path = os.path.join(image_dir, filename)\n",
    "#         try:\n",
    "#             # 이미지 파일 열기 (검사)\n",
    "#             with Image.open(image_path) as img:\n",
    "#                 img.verify()  # 실제 이미지가 유효한지 검사\n",
    "#         except (UnidentifiedImageError, IOError) as e:\n",
    "#             print(f\"❌ 삭제됨: {filename} — 이유: {e}\")\n",
    "#             os.remove(image_path)\n",
    "#             # 관련 JSON도 같이 삭제\n",
    "#             json_path = image_path.replace('.jpg', '.json')\n",
    "#             if os.path.exists(json_path):\n",
    "#                 os.remove(json_path)\n",
    "#             deleted_files += 1\n",
    "\n",
    "# print(f\"총 {deleted_files}개 손상 이미지(.jpg) 및 레이블(.json) 삭제 완료.\")"
   ]
  },
  {
   "cell_type": "code",
   "execution_count": null,
   "metadata": {},
   "outputs": [],
   "source": []
  }
 ],
 "metadata": {
  "kernelspec": {
   "display_name": "Python 3",
   "language": "python",
   "name": "python3"
  },
  "language_info": {
   "codemirror_mode": {
    "name": "ipython",
    "version": 3
   },
   "file_extension": ".py",
   "mimetype": "text/x-python",
   "name": "python",
   "nbconvert_exporter": "python",
   "pygments_lexer": "ipython3",
   "version": "3.6.9"
  }
 },
 "nbformat": 4,
 "nbformat_minor": 4
}
